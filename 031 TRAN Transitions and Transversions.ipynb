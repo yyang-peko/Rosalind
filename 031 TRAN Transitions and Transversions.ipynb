{
 "cells": [
  {
   "cell_type": "code",
   "execution_count": 81,
   "metadata": {},
   "outputs": [
    {
     "data": {
      "text/plain": [
       "True"
      ]
     },
     "execution_count": 81,
     "metadata": {},
     "output_type": "execute_result"
    },
    {
     "data": {
      "text/plain": [
       "'>Rosalind_8896\\nCATAATCTCGTCTCCAATATAGATCCACGACTGTGTCGGGTTGCACCCCTCTCGACACCT\\nCCACCTCAGACCAGTAGGGTTCGTCCGTTTGGCGATGAGTGCCCGTTATCACCAAGTAGT\\nAATGTAGGGACGGGGAGGACGTCAAAAGGCAGGCCAGAAGGTACGTAGGGGATGGCAGCG\\nGAGCGTTTCACACCAAATTCATACTTAGCAGCCCTGGTCACCGCTACGAGATAGAAGAGA\\nAAAGGCTAATTCTTCCCCGACGACGCGTGGCGATATGACCTATGCAAACGCTATCACAGG\\nCCCCAGAAACGTGTTCTGAAGAACAGTCGTGAGGATCGATTCGTAATATATTCTCGTACA\\nGCGATCTGCGCACTAGGTCGAACTAGACCTGTCCCACGTACCAACGATATAATTTATGGG\\nCTCGTGATTCTCGTGTCCCCAATGCGTTGGAATCTGTGTCGGGGATACAGACGTCATTGT\\nGACCTTCCACTTCGTCGAGGGCCACCAGGCAACCTCGAAAGGTTTCGACCCCTATGTCCG\\nTTATTTTGCCGACGCCCGCCTCCCACAGAGTTGTTTGCATAGTTCGAAATCGGTTTGCGA\\nCACCCGTTGAATCCACGGCAAACTATGTCGCATCACAACATATGGACTACTGAATCCATG\\nGCGCCTCACAGAGGAGGGGGAGAAATCGTACCCGTTAAGTATCACCCGCCGAAAACTGTT\\nGGCGACATGCGTACATTTAGATATCACGGCCTCGCTAATTGTGTCTTATGACCCTAAGGG\\nGTGAGAAGTATTCACGTCGGTCTGCACGTCTATAGACGGAGGCTCTGTCTTAGACCTGGC\\nAACGCCATGCGATGTTACTTAGCCGATCGTATAAATGATTTAGTAAGATTGTTAGGAAGA\\nACGTTAGTAATGTGC\\n>Rosalind_2323\\nCGTAATTTCATTTCCAACATTGGGTTACGGTCGTGTCGGGTTGTACCTCCCTCGATACCT\\nCTGACTTTTACCAGTAGGGTACGTCCATTCGGCCACGGTTGCCCGTTGTTACCAAGTGGT\\nGATCTAAGGACGCGGGGGGAGGCAGAAGGCAGGTCAGAAGGTACGTGGGCGATGGCAACA\\nGGGCATTTCACGCCAAACCCTTGCTTAGGAGCCCGGGGCACCGCCATGAGAAAGAAGGGA\\nGAAGGCTATCGCTTCTATGACATCACGTGTTGACGTGATCTATTCAAACGTTCTTAGAGG\\nCGCCGGGGACGTGTTCTTAAAGACATTCTTGAAGATTAATTCTTAACTTACTCTTGCACA\\nGCGGTTTGCGCACTAGGCCGAGCTTGGTCAGTCTTCTGTACCAACGATACAGTTTGTGAA\\nCTCGTAGTTCTCTTACCCTCACTGTGTTGGAATTTGTTTTGGGGATACAGACGTCATTGT\\nGGGCCCCCGTTTCCTCGAGGGCCACACAGCAACCCATGAAGGTTTCGATCCTTATGCTCG\\nTTGTTTTGCTTGCACTTACGTCGCACAGAGGCGTTTGCATAACCTAAAGTCGGAACGTGA\\nCTCCAGTCGAATTTACGGCGTACTCGGCCGCCTAAACGCACTGAGACTATTTAATCCTCG\\nGCTGCCCACAGAGAAGAGGAGGAGAACGTACTTGATAAATAATATGCGCCGAAGCCTGCT\\nCCTAATGTGACTACAGTTAAATACTCCGGCACGGTTATTCGTGTCTCACAATCCCGAAAA\\nGTGAAAAGTACTCACGCCGGTCCGGATTTTTATAGATGCAGGCTCTATGTTTGATCTCAA\\nTGCGCCACGCGGCGTTATTTGGTCAGTTGGATAAACGTTTTAGGGGGCCTGCTGAGAGGG\\nATCCTAGTAACGCTC\\n'"
      ]
     },
     "execution_count": 81,
     "metadata": {},
     "output_type": "execute_result"
    }
   ],
   "source": [
    "with open('031 rosalind_tran.txt', 'r') as f:\n",
    "     data = f.read()\n",
    "f.closed\n",
    "data"
   ]
  },
  {
   "cell_type": "code",
   "execution_count": 82,
   "metadata": {},
   "outputs": [
    {
     "data": {
      "text/plain": [
       "'CATAATCTCGTCTCCAATATAGATCCACGACTGTGTCGGGTTGCACCCCTCTCGACACCTCCACCTCAGACCAGTAGGGTTCGTCCGTTTGGCGATGAGTGCCCGTTATCACCAAGTAGTAATGTAGGGACGGGGAGGACGTCAAAAGGCAGGCCAGAAGGTACGTAGGGGATGGCAGCGGAGCGTTTCACACCAAATTCATACTTAGCAGCCCTGGTCACCGCTACGAGATAGAAGAGAAAAGGCTAATTCTTCCCCGACGACGCGTGGCGATATGACCTATGCAAACGCTATCACAGGCCCCAGAAACGTGTTCTGAAGAACAGTCGTGAGGATCGATTCGTAATATATTCTCGTACAGCGATCTGCGCACTAGGTCGAACTAGACCTGTCCCACGTACCAACGATATAATTTATGGGCTCGTGATTCTCGTGTCCCCAATGCGTTGGAATCTGTGTCGGGGATACAGACGTCATTGTGACCTTCCACTTCGTCGAGGGCCACCAGGCAACCTCGAAAGGTTTCGACCCCTATGTCCGTTATTTTGCCGACGCCCGCCTCCCACAGAGTTGTTTGCATAGTTCGAAATCGGTTTGCGACACCCGTTGAATCCACGGCAAACTATGTCGCATCACAACATATGGACTACTGAATCCATGGCGCCTCACAGAGGAGGGGGAGAAATCGTACCCGTTAAGTATCACCCGCCGAAAACTGTTGGCGACATGCGTACATTTAGATATCACGGCCTCGCTAATTGTGTCTTATGACCCTAAGGGGTGAGAAGTATTCACGTCGGTCTGCACGTCTATAGACGGAGGCTCTGTCTTAGACCTGGCAACGCCATGCGATGTTACTTAGCCGATCGTATAAATGATTTAGTAAGATTGTTAGGAAGAACGTTAGTAATGTGC'"
      ]
     },
     "execution_count": 82,
     "metadata": {},
     "output_type": "execute_result"
    },
    {
     "data": {
      "text/plain": [
       "'CGTAATTTCATTTCCAACATTGGGTTACGGTCGTGTCGGGTTGTACCTCCCTCGATACCTCTGACTTTTACCAGTAGGGTACGTCCATTCGGCCACGGTTGCCCGTTGTTACCAAGTGGTGATCTAAGGACGCGGGGGGAGGCAGAAGGCAGGTCAGAAGGTACGTGGGCGATGGCAACAGGGCATTTCACGCCAAACCCTTGCTTAGGAGCCCGGGGCACCGCCATGAGAAAGAAGGGAGAAGGCTATCGCTTCTATGACATCACGTGTTGACGTGATCTATTCAAACGTTCTTAGAGGCGCCGGGGACGTGTTCTTAAAGACATTCTTGAAGATTAATTCTTAACTTACTCTTGCACAGCGGTTTGCGCACTAGGCCGAGCTTGGTCAGTCTTCTGTACCAACGATACAGTTTGTGAACTCGTAGTTCTCTTACCCTCACTGTGTTGGAATTTGTTTTGGGGATACAGACGTCATTGTGGGCCCCCGTTTCCTCGAGGGCCACACAGCAACCCATGAAGGTTTCGATCCTTATGCTCGTTGTTTTGCTTGCACTTACGTCGCACAGAGGCGTTTGCATAACCTAAAGTCGGAACGTGACTCCAGTCGAATTTACGGCGTACTCGGCCGCCTAAACGCACTGAGACTATTTAATCCTCGGCTGCCCACAGAGAAGAGGAGGAGAACGTACTTGATAAATAATATGCGCCGAAGCCTGCTCCTAATGTGACTACAGTTAAATACTCCGGCACGGTTATTCGTGTCTCACAATCCCGAAAAGTGAAAAGTACTCACGCCGGTCCGGATTTTTATAGATGCAGGCTCTATGTTTGATCTCAATGCGCCACGCGGCGTTATTTGGTCAGTTGGATAAACGTTTTAGGGGGCCTGCTGAGAGGGATCCTAGTAACGCTC'"
      ]
     },
     "execution_count": 82,
     "metadata": {},
     "output_type": "execute_result"
    }
   ],
   "source": [
    "s1 = data.split('>')[1][13:].replace('\\n', '')\n",
    "s2 = data.split('>')[2][13:].replace('\\n', '')\n",
    "s1\n",
    "s2"
   ]
  },
  {
   "cell_type": "code",
   "execution_count": 52,
   "metadata": {},
   "outputs": [],
   "source": [
    "s1 = 'GCAACGCACAACGAAAACCCTTAGGGACTGGATTATTTCGTGATCGTTGTAGTTATTGGAAGTACGGGCATCAACCCAGTT'\n",
    "s2 = 'TTATCTGACAAAGAAAGCCGTCAACGGCTGGATAATTTCGCGATCGTGCTGGTTACTGGCGGTACGAGTGTTCCTTTGGGT'"
   ]
  },
  {
   "cell_type": "code",
   "execution_count": 83,
   "metadata": {},
   "outputs": [],
   "source": [
    "purines = ['A', 'G']\n",
    "pyrimidines = ['T', 'C']"
   ]
  },
  {
   "cell_type": "code",
   "execution_count": 79,
   "metadata": {},
   "outputs": [],
   "source": [
    "transitions = 0\n",
    "transversions = 0\n",
    "for i in range(len(s1)):\n",
    "    a1 = s1[i]\n",
    "    a2 = s2[i]\n",
    "    if a1 != a2:\n",
    "        if (a1 and a2) in purines or pyrimidines == True:\n",
    "            transitions +=1\n",
    "        else:\n",
    "            transversions +=1"
   ]
  },
  {
   "cell_type": "code",
   "execution_count": 71,
   "metadata": {},
   "outputs": [
    {
     "data": {
      "text/plain": [
       "1.2272727272727273"
      ]
     },
     "execution_count": 71,
     "metadata": {},
     "output_type": "execute_result"
    }
   ],
   "source": [
    "transversions/transitions"
   ]
  },
  {
   "cell_type": "code",
   "execution_count": 90,
   "metadata": {},
   "outputs": [
    {
     "data": {
      "text/plain": [
       "4.791139240506329"
      ]
     },
     "execution_count": 90,
     "metadata": {},
     "output_type": "execute_result"
    }
   ],
   "source": [
    "transitions/transversions"
   ]
  },
  {
   "cell_type": "code",
   "execution_count": 88,
   "metadata": {},
   "outputs": [],
   "source": [
    "transitions = 0\n",
    "transversions = 0\n",
    "for i in range(len(s1)):\n",
    "    a1 = s1[i]\n",
    "    a2 = s2[i]\n",
    "\n",
    "    if (a1 and a2) in purines or pyrimidines == True:\n",
    "        transitions +=1\n",
    "    elif a1 == a2:\n",
    "        transitions +=1\n",
    "    else:\n",
    "        transversions +=1"
   ]
  },
  {
   "cell_type": "code",
   "execution_count": 103,
   "metadata": {},
   "outputs": [
    {
     "data": {
      "text/plain": [
       "True"
      ]
     },
     "execution_count": 103,
     "metadata": {},
     "output_type": "execute_result"
    }
   ],
   "source": [
    "('T' and 'A') in ('A, G' or 'C, T')"
   ]
  },
  {
   "cell_type": "code",
   "execution_count": 94,
   "metadata": {},
   "outputs": [
    {
     "data": {
      "text/plain": [
       "915"
      ]
     },
     "execution_count": 94,
     "metadata": {},
     "output_type": "execute_result"
    }
   ],
   "source": [
    "transitions + transversions"
   ]
  },
  {
   "cell_type": "code",
   "execution_count": null,
   "metadata": {},
   "outputs": [],
   "source": []
  }
 ],
 "metadata": {
  "kernelspec": {
   "display_name": "Python 3",
   "language": "python",
   "name": "python3"
  },
  "language_info": {
   "codemirror_mode": {
    "name": "ipython",
    "version": 3
   },
   "file_extension": ".py",
   "mimetype": "text/x-python",
   "name": "python",
   "nbconvert_exporter": "python",
   "pygments_lexer": "ipython3",
   "version": "3.8.3"
  }
 },
 "nbformat": 4,
 "nbformat_minor": 4
}
