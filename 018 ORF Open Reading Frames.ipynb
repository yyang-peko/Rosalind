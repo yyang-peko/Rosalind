{
 "cells": [
  {
   "cell_type": "code",
   "execution_count": 167,
   "metadata": {},
   "outputs": [
    {
     "data": {
      "text/plain": [
       "True"
      ]
     },
     "execution_count": 167,
     "metadata": {},
     "output_type": "execute_result"
    }
   ],
   "source": [
    "with open('018 rosalind_orf.txt', 'r') as f:\n",
    "     data = f.read()\n",
    "f.closed"
   ]
  },
  {
   "cell_type": "code",
   "execution_count": 169,
   "metadata": {},
   "outputs": [
    {
     "data": {
      "text/plain": [
       "'>Rosalind_5541\\nGCTTTTCACTGAGTCCTCGAATTGATATCCATGCGCCCGTTCATTGGCAGCGCGGTCGCG\\nGGCGGAGCGTCCCCAAGGACGACCTTGTATCTAAGTATCCGTTTCTGCTGATCCTGTTTT\\nCTAGTGAAGAATCCCGCGGGAAAAGGTCCGGATAGCGTATCGAATGTACGTTTAAAACGC\\nACCTGGCTAAAACGGAGATAGATCGGAGCAACGCGATTTGACTTACAGCCGACCCGCCCG\\nATGTTAACCTTAAAATTCCGGTAAGCATCCTACTATAGTAACAGGGTTGTAACTCTACCA\\nGCATTTTAAATGCTTTAAAACTAAGCCTCGCACACCAAGTTCGATGACTGGCGGTGAGAC\\nCCCGCCGGTATCCGGCCAAAACATCCCGACTCTTCAGAAATATCTAAATAAGCTCCTACT\\nAGAAATGATTACATCTATAAGGACAGCGTAGCTACGCTGTCCTTATAGATGTAATCATAC\\nCGAATACAATCTAAAGATGGCATCCCGACCGATACAGCACTTCTCCCAAACGTGTGAGTT\\nGACAACCTGCCGACTGGCAGTAACACGAAGCTTAGCCGGAAGTCCATTTCACGCGTATTT\\nCGCTCTCGTTGAAACATGTCAAACGACAAGGACATCAAAAATTTCCGGGATGATAAGCAA\\nAGTTCGGGTCGGCTTAGGTCGATTTGTATTTACAATCCATCTAGTGCATAGTTTAGAGGA\\nTTAGGGGTGCTCTTTAGAAGAACTCAATTCTAATGCAATATGTGTGAAAACCTCTCTGGC\\nTGGGCGATCCACTGCCCAGGCGCACAGCCATCCTTTGAATATAGTTGTGGCGAATGATCT\\nGCGTATAAGCACGCGACTCGTAGGCGAACATCAGACCAGATTTATGCGCGTAGGATTAGA\\nTG\\n'"
      ]
     },
     "execution_count": 169,
     "metadata": {},
     "output_type": "execute_result"
    }
   ],
   "source": [
    "data"
   ]
  },
  {
   "cell_type": "code",
   "execution_count": 174,
   "metadata": {},
   "outputs": [],
   "source": [
    "a=data[15:].replace('\\n', '')"
   ]
  },
  {
   "cell_type": "code",
   "execution_count": 117,
   "metadata": {},
   "outputs": [],
   "source": [
    "table = \"TTT F      CTT L      ATT I      GTT V \\\n",
    "TTC F      CTC L      ATC I      GTC V \\\n",
    "TTA L      CTA L      ATA I      GTA V \\\n",
    "TTG L      CTG L      ATG M      GTG V \\\n",
    "TCT S      CCT P      ACT T      GCT A \\\n",
    "TCC S      CCC P      ACC T      GCC A \\\n",
    "TCA S      CCA P      ACA T      GCA A \\\n",
    "TCG S      CCG P      ACG T      GCG A \\\n",
    "TAT Y      CAT H      AAT N      GAT D \\\n",
    "TAC Y      CAC H      AAC N      GAC D \\\n",
    "TAA _   CAA Q      AAA K      GAA E \\\n",
    "TAG _   CAG Q      AAG K      GAG E \\\n",
    "TGT C      CGT R      AGT S      GGT G \\\n",
    "TGC C      CGC R      AGC S      GGC G \\\n",
    "TGA _   CGA R      AGA R      GGA G \\\n",
    "TGG W      CGG R      AGG R      GGG G\"\n",
    "\n",
    "table = iter(table.split())\n",
    "table = dict(zip(table, table))"
   ]
  },
  {
   "cell_type": "code",
   "execution_count": 118,
   "metadata": {},
   "outputs": [],
   "source": [
    "a = 'AGCCATGTAGCTAACTCAGGTTACATGGGGATGACCCCGCGACTTGGATTAGAGTCTCTTTTGGAATAAGCCTGAATGATCCGAGTAGCATCTCAG'"
   ]
  },
  {
   "cell_type": "code",
   "execution_count": 175,
   "metadata": {},
   "outputs": [],
   "source": [
    "def translate(seq):\n",
    "    prot = ''\n",
    "    codons = [seq[i:i+3] for i in range(0, len(seq), 3)]\n",
    "    \n",
    "    for i in codons:\n",
    "        if len(i) == 3:\n",
    "            prot += table[i]\n",
    "    return prot"
   ]
  },
  {
   "cell_type": "code",
   "execution_count": 176,
   "metadata": {},
   "outputs": [],
   "source": [
    "def find_prots(b):\n",
    "    prots = []\n",
    "    for i in range(len(b)):\n",
    "        for j in range(i+1, len(b)+1):\n",
    "            stem = b[i:j]\n",
    "            if stem[0] == 'M' and stem[-1] == '_' and ('_' not in stem[:-1]):\n",
    "                prots.append(stem[:-1])\n",
    "    return prots"
   ]
  },
  {
   "cell_type": "code",
   "execution_count": 177,
   "metadata": {},
   "outputs": [],
   "source": [
    "def orf(seq):\n",
    "    results = []    \n",
    "    b = a[::-1].translate(str.maketrans('ACGT', 'TGCA'))\n",
    "    for i in [a, a[1:], a[2:], b, b[1:], b[2:]]:\n",
    "        results += find_prots(translate(i))\n",
    "    for i in set(results):\n",
    "        print(i)\n",
    "    return"
   ]
  },
  {
   "cell_type": "code",
   "execution_count": 178,
   "metadata": {},
   "outputs": [
    {
     "name": "stdout",
     "output_type": "stream",
     "text": [
      "MFWPDTGGVSPPVIELGVRGLVLKHLKCW\n",
      "MH\n",
      "MAVRLGSGSPSQRGFHTYCIRIEFF\n",
      "MCENLSGWAIHCPGAQPSFEYSCGE\n",
      "MQYV\n",
      "MTGGETPPVSGQNIPTLQKYLNKLLLEMITSIRTA\n",
      "MYV\n",
      "MLVELQPCYYSRMLTGILRLTSGGSAVSQIALLRSISVLARCVLNVHSIRYPDLFPRDSSLENRISRNGYLDTRSSLGTLRPRPRCQ\n",
      "ML\n",
      "MLTGILRLTSGGSAVSQIALLRSISVLARCVLNVHSIRYPDLFPRDSSLENRISRNGYLDTRSSLGTLRPRPRCQ\n",
      "MSLSFDMFQRERNTREMDFRLSFVLLPVGRLSTHTFGRSAVSVGMPSLDCIRYDYIYKDSVATLSL\n",
      "MDFRLSFVLLPVGRLSTHTFGRSAVSVGMPSLDCIRYDYIYKDSVATLSL\n",
      "MICV\n",
      "MSNDKDIKNFRDDKQSSGRLRSICIYNPSSA\n",
      "MLTLKFR\n",
      "MASRPIQHFSQTCELTTCRLAVTRSLAGSPFHAYFALVETCQTTRTSKISGMISKVRVGLGRFVFTIHLVHSLED\n",
      "MITSIRTA\n",
      "MFAYESRAYTQIIRHNYIQRMAVRLGSGSPSQRGFHTYCIRIEFF\n",
      "MRPFIGSAVAGGASPRTTLYLSIRFC\n",
      "MDCKYKST\n",
      "MPSLDCIRYDYIYKDSVATLSL\n",
      "MDINSRTQ\n",
      "M\n",
      "MFQRERNTREMDFRLSFVLLPVGRLSTHTFGRSAVSVGMPSLDCIRYDYIYKDSVATLSL\n",
      "MNGRMDINSRTQ\n",
      "MISKVRVGLGRFVFTIHLVHSLED\n"
     ]
    }
   ],
   "source": [
    "orf(a)"
   ]
  },
  {
   "cell_type": "code",
   "execution_count": null,
   "metadata": {},
   "outputs": [],
   "source": []
  }
 ],
 "metadata": {
  "kernelspec": {
   "display_name": "Python 3",
   "language": "python",
   "name": "python3"
  },
  "language_info": {
   "codemirror_mode": {
    "name": "ipython",
    "version": 3
   },
   "file_extension": ".py",
   "mimetype": "text/x-python",
   "name": "python",
   "nbconvert_exporter": "python",
   "pygments_lexer": "ipython3",
   "version": "3.8.3"
  }
 },
 "nbformat": 4,
 "nbformat_minor": 4
}
