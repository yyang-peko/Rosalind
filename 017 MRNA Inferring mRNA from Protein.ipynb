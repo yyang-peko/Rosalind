{
 "cells": [
  {
   "cell_type": "code",
   "execution_count": 38,
   "metadata": {},
   "outputs": [
    {
     "data": {
      "text/plain": [
       "True"
      ]
     },
     "execution_count": 38,
     "metadata": {},
     "output_type": "execute_result"
    }
   ],
   "source": [
    "with open('017 rosalind_mrna.txt', 'r') as f:\n",
    "     data = f.read()\n",
    "f.closed"
   ]
  },
  {
   "cell_type": "code",
   "execution_count": 39,
   "metadata": {},
   "outputs": [],
   "source": [
    "a = data.strip()"
   ]
  },
  {
   "cell_type": "raw",
   "metadata": {},
   "source": [
    "a = 'MA'"
   ]
  },
  {
   "cell_type": "code",
   "execution_count": 40,
   "metadata": {},
   "outputs": [],
   "source": [
    "table = \"UUU F      CUU L      AUU I      GUU V \\\n",
    "UUC F      CUC L      AUC I      GUC V \\\n",
    "UUA L      CUA L      AUA I      GUA V \\\n",
    "UUG L      CUG L      AUG M      GUG V \\\n",
    "UCU S      CCU P      ACU T      GCU A \\\n",
    "UCC S      CCC P      ACC T      GCC A \\\n",
    "UCA S      CCA P      ACA T      GCA A \\\n",
    "UCG S      CCG P      ACG T      GCG A \\\n",
    "UAU Y      CAU H      AAU N      GAU D \\\n",
    "UAC Y      CAC H      AAC N      GAC D \\\n",
    "UAA Stop   CAA Q      AAA K      GAA E \\\n",
    "UAG Stop   CAG Q      AAG K      GAG E \\\n",
    "UGU C      CGU R      AGU S      GGU G \\\n",
    "UGC C      CGC R      AGC S      GGC G \\\n",
    "UGA Stop   CGA R      AGA R      GGA G \\\n",
    "UGG W      CGG R      AGG R      GGG G \"\n",
    "\n",
    "table = iter(table.split())\n",
    "table = dict(zip(table, table))"
   ]
  },
  {
   "cell_type": "code",
   "execution_count": 41,
   "metadata": {},
   "outputs": [
    {
     "data": {
      "text/plain": [
       "306304"
      ]
     },
     "execution_count": 41,
     "metadata": {},
     "output_type": "execute_result"
    }
   ],
   "source": [
    "val = 3 #stop codon\n",
    "for i in a:\n",
    "    y = sum(x == i for x in table.values())\n",
    "    val = val * y\n",
    "val%1000000"
   ]
  },
  {
   "cell_type": "code",
   "execution_count": null,
   "metadata": {},
   "outputs": [],
   "source": []
  }
 ],
 "metadata": {
  "kernelspec": {
   "display_name": "Python 3",
   "language": "python",
   "name": "python3"
  },
  "language_info": {
   "codemirror_mode": {
    "name": "ipython",
    "version": 3
   },
   "file_extension": ".py",
   "mimetype": "text/x-python",
   "name": "python",
   "nbconvert_exporter": "python",
   "pygments_lexer": "ipython3",
   "version": "3.8.3"
  }
 },
 "nbformat": 4,
 "nbformat_minor": 4
}
