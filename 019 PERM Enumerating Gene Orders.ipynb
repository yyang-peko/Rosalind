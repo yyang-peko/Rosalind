{
 "cells": [
  {
   "cell_type": "code",
   "execution_count": 14,
   "metadata": {},
   "outputs": [],
   "source": [
    "from IPython.core.interactiveshell import InteractiveShell\n",
    "InteractiveShell.ast_node_interactivity = \"all\""
   ]
  },
  {
   "cell_type": "code",
   "execution_count": 17,
   "metadata": {},
   "outputs": [
    {
     "data": {
      "text/plain": [
       "True"
      ]
     },
     "execution_count": 17,
     "metadata": {},
     "output_type": "execute_result"
    }
   ],
   "source": [
    "with open('019 rosalind_perm.txt', 'r') as f:\n",
    "     data = f.read()\n",
    "f.closed"
   ]
  },
  {
   "cell_type": "code",
   "execution_count": 18,
   "metadata": {},
   "outputs": [
    {
     "data": {
      "text/plain": [
       "'5\\n'"
      ]
     },
     "execution_count": 18,
     "metadata": {},
     "output_type": "execute_result"
    }
   ],
   "source": [
    "data"
   ]
  },
  {
   "cell_type": "code",
   "execution_count": 19,
   "metadata": {},
   "outputs": [],
   "source": [
    "n = 5"
   ]
  },
  {
   "cell_type": "code",
   "execution_count": 20,
   "metadata": {},
   "outputs": [],
   "source": [
    "a = list(range(1, n+1))"
   ]
  },
  {
   "cell_type": "code",
   "execution_count": 5,
   "metadata": {},
   "outputs": [],
   "source": [
    "import itertools"
   ]
  },
  {
   "cell_type": "code",
   "execution_count": 21,
   "metadata": {},
   "outputs": [],
   "source": [
    "perms = list(itertools.permutations(a))"
   ]
  },
  {
   "cell_type": "code",
   "execution_count": 22,
   "metadata": {
    "scrolled": false
   },
   "outputs": [
    {
     "name": "stdout",
     "output_type": "stream",
     "text": [
      "120\n",
      "1 2 3 4 5\n",
      "1 2 3 5 4\n",
      "1 2 4 3 5\n",
      "1 2 4 5 3\n",
      "1 2 5 3 4\n",
      "1 2 5 4 3\n",
      "1 3 2 4 5\n",
      "1 3 2 5 4\n",
      "1 3 4 2 5\n",
      "1 3 4 5 2\n",
      "1 3 5 2 4\n",
      "1 3 5 4 2\n",
      "1 4 2 3 5\n",
      "1 4 2 5 3\n",
      "1 4 3 2 5\n",
      "1 4 3 5 2\n",
      "1 4 5 2 3\n",
      "1 4 5 3 2\n",
      "1 5 2 3 4\n",
      "1 5 2 4 3\n",
      "1 5 3 2 4\n",
      "1 5 3 4 2\n",
      "1 5 4 2 3\n",
      "1 5 4 3 2\n",
      "2 1 3 4 5\n",
      "2 1 3 5 4\n",
      "2 1 4 3 5\n",
      "2 1 4 5 3\n",
      "2 1 5 3 4\n",
      "2 1 5 4 3\n",
      "2 3 1 4 5\n",
      "2 3 1 5 4\n",
      "2 3 4 1 5\n",
      "2 3 4 5 1\n",
      "2 3 5 1 4\n",
      "2 3 5 4 1\n",
      "2 4 1 3 5\n",
      "2 4 1 5 3\n",
      "2 4 3 1 5\n",
      "2 4 3 5 1\n",
      "2 4 5 1 3\n",
      "2 4 5 3 1\n",
      "2 5 1 3 4\n",
      "2 5 1 4 3\n",
      "2 5 3 1 4\n",
      "2 5 3 4 1\n",
      "2 5 4 1 3\n",
      "2 5 4 3 1\n",
      "3 1 2 4 5\n",
      "3 1 2 5 4\n",
      "3 1 4 2 5\n",
      "3 1 4 5 2\n",
      "3 1 5 2 4\n",
      "3 1 5 4 2\n",
      "3 2 1 4 5\n",
      "3 2 1 5 4\n",
      "3 2 4 1 5\n",
      "3 2 4 5 1\n",
      "3 2 5 1 4\n",
      "3 2 5 4 1\n",
      "3 4 1 2 5\n",
      "3 4 1 5 2\n",
      "3 4 2 1 5\n",
      "3 4 2 5 1\n",
      "3 4 5 1 2\n",
      "3 4 5 2 1\n",
      "3 5 1 2 4\n",
      "3 5 1 4 2\n",
      "3 5 2 1 4\n",
      "3 5 2 4 1\n",
      "3 5 4 1 2\n",
      "3 5 4 2 1\n",
      "4 1 2 3 5\n",
      "4 1 2 5 3\n",
      "4 1 3 2 5\n",
      "4 1 3 5 2\n",
      "4 1 5 2 3\n",
      "4 1 5 3 2\n",
      "4 2 1 3 5\n",
      "4 2 1 5 3\n",
      "4 2 3 1 5\n",
      "4 2 3 5 1\n",
      "4 2 5 1 3\n",
      "4 2 5 3 1\n",
      "4 3 1 2 5\n",
      "4 3 1 5 2\n",
      "4 3 2 1 5\n",
      "4 3 2 5 1\n",
      "4 3 5 1 2\n",
      "4 3 5 2 1\n",
      "4 5 1 2 3\n",
      "4 5 1 3 2\n",
      "4 5 2 1 3\n",
      "4 5 2 3 1\n",
      "4 5 3 1 2\n",
      "4 5 3 2 1\n",
      "5 1 2 3 4\n",
      "5 1 2 4 3\n",
      "5 1 3 2 4\n",
      "5 1 3 4 2\n",
      "5 1 4 2 3\n",
      "5 1 4 3 2\n",
      "5 2 1 3 4\n",
      "5 2 1 4 3\n",
      "5 2 3 1 4\n",
      "5 2 3 4 1\n",
      "5 2 4 1 3\n",
      "5 2 4 3 1\n",
      "5 3 1 2 4\n",
      "5 3 1 4 2\n",
      "5 3 2 1 4\n",
      "5 3 2 4 1\n",
      "5 3 4 1 2\n",
      "5 3 4 2 1\n",
      "5 4 1 2 3\n",
      "5 4 1 3 2\n",
      "5 4 2 1 3\n",
      "5 4 2 3 1\n",
      "5 4 3 1 2\n",
      "5 4 3 2 1\n"
     ]
    }
   ],
   "source": [
    "print(len(perms))\n",
    "for i in perms:\n",
    "    print(*i, sep = ' ')"
   ]
  },
  {
   "cell_type": "code",
   "execution_count": null,
   "metadata": {},
   "outputs": [],
   "source": []
  }
 ],
 "metadata": {
  "kernelspec": {
   "display_name": "Python 3",
   "language": "python",
   "name": "python3"
  },
  "language_info": {
   "codemirror_mode": {
    "name": "ipython",
    "version": 3
   },
   "file_extension": ".py",
   "mimetype": "text/x-python",
   "name": "python",
   "nbconvert_exporter": "python",
   "pygments_lexer": "ipython3",
   "version": "3.8.3"
  }
 },
 "nbformat": 4,
 "nbformat_minor": 4
}
