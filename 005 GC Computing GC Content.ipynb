{
 "cells": [
  {
   "cell_type": "code",
   "execution_count": 47,
   "metadata": {},
   "outputs": [],
   "source": [
    "a = open('005 rosalind_gc.txt', 'r').read()"
   ]
  },
  {
   "cell_type": "code",
   "execution_count": 49,
   "metadata": {},
   "outputs": [],
   "source": [
    "b = a.replace('\\n', '').split('>')[1:]"
   ]
  },
  {
   "cell_type": "code",
   "execution_count": 50,
   "metadata": {},
   "outputs": [
    {
     "name": "stdout",
     "output_type": "stream",
     "text": [
      "Rosalind_5323\n",
      "50.061652\n",
      "Rosalind_0429\n",
      "47.868852\n",
      "Rosalind_8188\n",
      "52.247874\n",
      "Rosalind_5493\n",
      "50.659341\n",
      "Rosalind_4974\n",
      "50.381679\n",
      "Rosalind_3101\n",
      "51.860744\n",
      "Rosalind_5961\n",
      "49.875\n",
      "Rosalind_5228\n",
      "47.757576\n",
      "Rosalind_2209\n",
      "49.941657\n",
      "Rosalind_5673\n",
      "50.890869\n"
     ]
    }
   ],
   "source": [
    "names=[]\n",
    "gcs=[]\n",
    "for i in b:\n",
    "    name = i[0:13]\n",
    "    seq = i[13:]\n",
    "    print(name)\n",
    "    gc = round((seq.count('G') + seq.count('C')) / len(seq) * 100, 6)\n",
    "    print(gc)\n",
    "    names.append(name)\n",
    "    gcs.append(gc)"
   ]
  },
  {
   "cell_type": "code",
   "execution_count": 51,
   "metadata": {},
   "outputs": [
    {
     "name": "stdout",
     "output_type": "stream",
     "text": [
      "Rosalind_8188\n",
      "52.247874\n"
     ]
    }
   ],
   "source": [
    "print(names[gcs.index(max(gcs))])\n",
    "print(max(gcs))"
   ]
  },
  {
   "cell_type": "code",
   "execution_count": null,
   "metadata": {},
   "outputs": [],
   "source": []
  }
 ],
 "metadata": {
  "kernelspec": {
   "display_name": "Python 3",
   "language": "python",
   "name": "python3"
  },
  "language_info": {
   "codemirror_mode": {
    "name": "ipython",
    "version": 3
   },
   "file_extension": ".py",
   "mimetype": "text/x-python",
   "name": "python",
   "nbconvert_exporter": "python",
   "pygments_lexer": "ipython3",
   "version": "3.8.3"
  }
 },
 "nbformat": 4,
 "nbformat_minor": 4
}
