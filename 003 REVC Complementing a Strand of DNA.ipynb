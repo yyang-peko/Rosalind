{
 "cells": [
  {
   "cell_type": "code",
   "execution_count": 9,
   "metadata": {},
   "outputs": [],
   "source": [
    "#a = 'AAAACCCGGT'\n",
    "a = open('003 rosalind_revc.txt', 'r').read()"
   ]
  },
  {
   "cell_type": "code",
   "execution_count": 20,
   "metadata": {},
   "outputs": [],
   "source": [
    "t = {'A':'T', 'T':'A', 'C':'G', 'G':'C'}"
   ]
  },
  {
   "cell_type": "code",
   "execution_count": 24,
   "metadata": {},
   "outputs": [
    {
     "name": "stdout",
     "output_type": "stream",
     "text": [
      "\n",
      "AGACCTCAGGTTATTAGGAAGACGACCCGGAACAGCTATGTCCTATGAGTAAGTTTGGGCTGGTGGGGGACGGATCCACAATGACGAACGGACTTCCGGGCCACCGGACCTTACGTGTGGCTAAAATCCGCCGGGAATTGGGTGGGCCCTCTCAAGATAGAGGTGGGACAAGACATCGCGTGGGGCAAGAGTTATCTTAGAAAGCACCTTCCCAGACAACATCCAACCGGTTACCCATGAAGTTATGTCCGCTTGTCTCGACCTGTCTGCAGACTGCAAATCTAACTACGCCAAGTTTTGGCGACGCTGGCTCCAAAAGTGAGCCGGAGGCCGCCAAGAAAGAAAAAAGCCATATGTGCCCTAGTTTGTGGCCTAGGTATTACGTTCAGCCGACTTGGTCATATTCGAAGGTAACTACGAATATTAGCATACGTGGGGTTGACGAACAGGCTTGAGGTCCACTTTGACCTCCAGCTAACCCAGGCCTTGAATTCCAGCGCTCTGAACAGAGGGGTAATCCCACCACTGCCATCTCACGCCGAAAAGCGATGACCGGTGATGACCATCCCTATATCTCTGACAAACAGCGACGCAGTTCCCTCGTGGTTCTTTTAACCTATGGAGCAATGCAAGGGCACGATATACGACTAGGTATACATTAATAGAGATGTTTCGTTCCTTTCTTATAATCGCCGAGAAAAGCCTTGAGATTCTCCTGGACGGATTTGGGAGGTGAATTCCGAGTTGAACGAAGGGGTCCTAAGTCAAGTAGAGTGCCTGCTGTAACGTCATCTTCTCGGCGTGCCCGGAGTGTATGAGAAACTTCTAAGGATCGCACCTTCTCAGATGCACTTGCAATG\n"
     ]
    }
   ],
   "source": [
    "b=str.maketrans(t)\n",
    "print(a.translate(b)[::-1])"
   ]
  },
  {
   "cell_type": "code",
   "execution_count": null,
   "metadata": {},
   "outputs": [],
   "source": []
  }
 ],
 "metadata": {
  "kernelspec": {
   "display_name": "Python 3",
   "language": "python",
   "name": "python3"
  },
  "language_info": {
   "codemirror_mode": {
    "name": "ipython",
    "version": 3
   },
   "file_extension": ".py",
   "mimetype": "text/x-python",
   "name": "python",
   "nbconvert_exporter": "python",
   "pygments_lexer": "ipython3",
   "version": "3.8.3"
  }
 },
 "nbformat": 4,
 "nbformat_minor": 4
}
