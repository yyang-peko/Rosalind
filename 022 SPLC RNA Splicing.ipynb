{
 "cells": [
  {
   "cell_type": "code",
   "execution_count": 32,
   "metadata": {},
   "outputs": [
    {
     "data": {
      "text/plain": [
       "True"
      ]
     },
     "execution_count": 32,
     "metadata": {},
     "output_type": "execute_result"
    }
   ],
   "source": [
    "with open('022 rosalind_splc.txt', 'r') as f:\n",
    "     data = f.read()\n",
    "f.closed"
   ]
  },
  {
   "cell_type": "code",
   "execution_count": 41,
   "metadata": {},
   "outputs": [
    {
     "data": {
      "text/plain": [
       "['',\n",
       " 'Rosalind_9274\\nATGTGCGAATTGCCCGCTCTCGTCAAAGCAAGAACGATCCAGTGGCTGGTGCTAAGTCAC\\nTCCGGGCGGGGGTGCTGGGCCCGAATCGAAAGTACACGGAACTGGTGATCCAAGAAGCCA\\nACCCGAACCGGGGTGGATTTGGCGCCGTGATTTTCGATCGAGACGCGATAGTTTCATCTG\\nACAGCTTCAATCGGTGGAGGTCAGAGGCACGCCACTGTACCTCACCAGGCGAAGTAAGCT\\nCGGGGCAACGTTCAGTGACGCACGCACGCCTCTTGTCCCAACCGGATCCCAGAGTAGTCA\\nCCACACCATACGGGATGGGCGGACGGTGTCGAGAGGAGAACCATGGCCAAACATTTGGCC\\nTTTTTGTCTCTGCCCCCTCTCCTGGACGGGTCACAAGACGTCAACTGCGCGCACCCATTG\\nATCATTGAGCCGGGAACCCAGTCGTCACCATAAGCCTCGAACTCGATGGATCACGTATGT\\nTCTAGAGGGGAGTAGCGACATTTCAAATCGAAGGGAGAATGGGTTGTTTCCTTGGGTAAC\\nCTCAACCCAACGTCATTAGTCGCGGCTCTATTAGCTACATGTAACCGAAGCGTCCCCTCC\\nACTGACGTGTATCAAAAAGTACGGTAGCCATGGAGAGGACTTTGATTAGCCCTATAGAAG\\nGCCGTGAGTCGATTACTACGTATATGCTACTAGTCCTTCTTTGCTTGCGAGTCGCCCTGT\\nTCCTATGCGCGATGGATCCCAATGCAGTGCATTGGATGACTGGCGTGAAGATTGCCACAA\\nGTTCTGGTATTCGCAATGAGATGGGGCCTTTAATCATGCCAATACGGCCGAGCAGTATCG\\nCAGCAGCTGTAATTGATGACTTGCATGTATTGTACCGCCTAGGTGGAGTGAAGGGTGCGC\\nCAGCATGACTATGATGTTGCTCAAGCCCAACGTCTTCAAGAACCACGGGACCGCTGACTG\\nGAGACAGCAGCTTATGA\\n',\n",
       " 'Rosalind_3265\\nTTGTCCCAACCGGATCCCAGAGTAGTCACCACACCATACGG\\n',\n",
       " 'Rosalind_7228\\nTGTCTCTGCCCCCTCTCCTGGACGGGTCA\\n',\n",
       " 'Rosalind_5477\\nCCAGCATGACTATGATGTTGCTCAAGCCCA\\n',\n",
       " 'Rosalind_0168\\nATTGGATGACTGGCGTGAAGATTGCCACAAGTTCTGGTATTCGCAATGA\\n',\n",
       " 'Rosalind_1937\\nGACGTGTATCAAAAAGTACGGTAGCCATGGAGAGGACTTTGATT\\n',\n",
       " 'Rosalind_8570\\nTCACGTATGTTCTAGAGGGGAGT\\n',\n",
       " 'Rosalind_1599\\nCTGTACCTCACCAGGC\\n',\n",
       " 'Rosalind_0016\\nTTTGGCGCCGTGATTTTCGATCGAGACGCGATAGTTTCATCTGACAG\\n',\n",
       " 'Rosalind_2840\\nCATGCCAATACGGCCGAGCAGTATCGCAGCAGCTGTAATTGATGAC\\n',\n",
       " 'Rosalind_6472\\nCACTCCGGGCGGGGGTGCTGGGCCCG\\n',\n",
       " 'Rosalind_5433\\nTCAACCCAACGTCA\\n',\n",
       " 'Rosalind_2620\\nCACCCATTGATCATTGA\\n',\n",
       " 'Rosalind_3304\\nCTACTAGTCCTTCTTT\\n']"
      ]
     },
     "execution_count": 41,
     "metadata": {},
     "output_type": "execute_result"
    }
   ],
   "source": [
    "data.split('>')"
   ]
  },
  {
   "cell_type": "code",
   "execution_count": 42,
   "metadata": {},
   "outputs": [],
   "source": [
    "a = data.split('>')[1][13:].replace('\\n', '')"
   ]
  },
  {
   "cell_type": "code",
   "execution_count": 43,
   "metadata": {},
   "outputs": [],
   "source": [
    "introns = []\n",
    "for i in data.split('>')[2:]:\n",
    "    introns.append(i[13:].replace('\\n', ''))"
   ]
  },
  {
   "cell_type": "code",
   "execution_count": 44,
   "metadata": {},
   "outputs": [
    {
     "data": {
      "text/plain": [
       "['TTGTCCCAACCGGATCCCAGAGTAGTCACCACACCATACGG',\n",
       " 'TGTCTCTGCCCCCTCTCCTGGACGGGTCA',\n",
       " 'CCAGCATGACTATGATGTTGCTCAAGCCCA',\n",
       " 'ATTGGATGACTGGCGTGAAGATTGCCACAAGTTCTGGTATTCGCAATGA',\n",
       " 'GACGTGTATCAAAAAGTACGGTAGCCATGGAGAGGACTTTGATT',\n",
       " 'TCACGTATGTTCTAGAGGGGAGT',\n",
       " 'CTGTACCTCACCAGGC',\n",
       " 'TTTGGCGCCGTGATTTTCGATCGAGACGCGATAGTTTCATCTGACAG',\n",
       " 'CATGCCAATACGGCCGAGCAGTATCGCAGCAGCTGTAATTGATGAC',\n",
       " 'CACTCCGGGCGGGGGTGCTGGGCCCG',\n",
       " 'TCAACCCAACGTCA',\n",
       " 'CACCCATTGATCATTGA',\n",
       " 'CTACTAGTCCTTCTTT']"
      ]
     },
     "execution_count": 44,
     "metadata": {},
     "output_type": "execute_result"
    }
   ],
   "source": [
    "introns"
   ]
  },
  {
   "cell_type": "raw",
   "metadata": {},
   "source": [
    "a = 'ATGGTCTACATAGCTGACAAACAGCACGTAGCAATCGGTCGAATCTCGAGAGGCATATGGTCACATGATCGGTCGAGCGTGTTTCAAAGTTTGCGCCTAG'\n",
    "b = ['ATCGGTCGAA', 'ATCGGTCGAGCGTGT']"
   ]
  },
  {
   "cell_type": "code",
   "execution_count": 45,
   "metadata": {},
   "outputs": [],
   "source": [
    "exons = a\n",
    "for i in introns:\n",
    "    exons = exons.replace(i, '')"
   ]
  },
  {
   "cell_type": "code",
   "execution_count": 46,
   "metadata": {},
   "outputs": [
    {
     "data": {
      "text/plain": [
       "'ATGTGCGAATTGCCCGCTCTCGTCAAAGCAAGAACGATCCAGTGGCTGGTGCTAAGTAATCGAAAGTACACGGAACTGGTGATCCAAGAAGCCAACCCGAACCGGGGTGGACTTCAATCGGTGGAGGTCAGAGGCACGCCAGAAGTAAGCTCGGGGCAACGTTCAGTGACGCACGCACGCCTCGATGGGCGGACGGTGTCGAGAGGAGAACCATGGCCAAACATTTGGCCTTTTCAAGACGTCAACTGCGCGGCCGGGAACCCAGTCGTCACCATAAGCCTCGAACTCGATGGAAGCGACATTTCAAATCGAAGGGAGAATGGGTTGTTTCCTTGGGTAACCTTAGTCGCGGCTCTATTAGCTACATGTAACCGAAGCGTCCCCTCCACTAGCCCTATAGAAGGCCGTGAGTCGATTACTACGTATATGGCTTGCGAGTCGCCCTGTTCCTATGCGCGATGGATCCCAATGCAGTGCGATGGGGCCTTTAATTTGCATGTATTGTACCGCCTAGGTGGAGTGAAGGGTGCGACGTCTTCAAGAACCACGGGACCGCTGACTGGAGACAGCAGCTTATGA'"
      ]
     },
     "execution_count": 46,
     "metadata": {},
     "output_type": "execute_result"
    }
   ],
   "source": [
    "exons"
   ]
  },
  {
   "cell_type": "code",
   "execution_count": 23,
   "metadata": {},
   "outputs": [],
   "source": [
    "table = \"TTT F      CTT L      ATT I      GTT V \\\n",
    "TTC F      CTC L      ATC I      GTC V \\\n",
    "TTA L      CTA L      ATA I      GTA V \\\n",
    "TTG L      CTG L      ATG M      GTG V \\\n",
    "TCT S      CCT P      ACT T      GCT A \\\n",
    "TCC S      CCC P      ACC T      GCC A \\\n",
    "TCA S      CCA P      ACA T      GCA A \\\n",
    "TCG S      CCG P      ACG T      GCG A \\\n",
    "TAT Y      CAT H      AAT N      GAT D \\\n",
    "TAC Y      CAC H      AAC N      GAC D \\\n",
    "TAA _   CAA Q      AAA K      GAA E \\\n",
    "TAG _   CAG Q      AAG K      GAG E \\\n",
    "TGT C      CGT R      AGT S      GGT G \\\n",
    "TGC C      CGC R      AGC S      GGC G \\\n",
    "TGA _   CGA R      AGA R      GGA G \\\n",
    "TGG W      CGG R      AGG R      GGG G\"\n",
    "\n",
    "table = iter(table.split())\n",
    "table = dict(zip(table, table))"
   ]
  },
  {
   "cell_type": "code",
   "execution_count": 24,
   "metadata": {},
   "outputs": [],
   "source": [
    "def translate(seq):\n",
    "    prot = ''\n",
    "    codons = [seq[i:i+3] for i in range(0, len(seq), 3)]\n",
    "    \n",
    "    for i in codons:\n",
    "        if len(i) == 3:\n",
    "            prot += table[i]\n",
    "    return prot"
   ]
  },
  {
   "cell_type": "code",
   "execution_count": 47,
   "metadata": {},
   "outputs": [
    {
     "name": "stdout",
     "output_type": "stream",
     "text": [
      "MCELPALVKARTIQWLVLSNRKYTELVIQEANPNRGGLQSVEVRGTPEVSSGQRSVTHARLDGRTVSRGEPWPNIWPFQDVNCAAGNPVVTISLELDGSDISNRRENGLFPWVTLVAALLATCNRSVPSTSPIEGRESITTYMACESPCSYARWIPMQCDGAFNLHVLYRLGGVKGATSSRTTGPLTGDSSL\n"
     ]
    }
   ],
   "source": [
    "print(translate(exons)[:-1])"
   ]
  },
  {
   "cell_type": "code",
   "execution_count": null,
   "metadata": {},
   "outputs": [],
   "source": []
  }
 ],
 "metadata": {
  "kernelspec": {
   "display_name": "Python 3",
   "language": "python",
   "name": "python3"
  },
  "language_info": {
   "codemirror_mode": {
    "name": "ipython",
    "version": 3
   },
   "file_extension": ".py",
   "mimetype": "text/x-python",
   "name": "python",
   "nbconvert_exporter": "python",
   "pygments_lexer": "ipython3",
   "version": "3.8.3"
  }
 },
 "nbformat": 4,
 "nbformat_minor": 4
}
