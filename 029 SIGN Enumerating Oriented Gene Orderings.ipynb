{
 "cells": [
  {
   "cell_type": "code",
   "execution_count": 1,
   "metadata": {},
   "outputs": [],
   "source": [
    "import itertools"
   ]
  },
  {
   "cell_type": "code",
   "execution_count": 87,
   "metadata": {},
   "outputs": [
    {
     "data": {
      "text/plain": [
       "True"
      ]
     },
     "execution_count": 87,
     "metadata": {},
     "output_type": "execute_result"
    },
    {
     "data": {
      "text/plain": [
       "'3\\n'"
      ]
     },
     "execution_count": 87,
     "metadata": {},
     "output_type": "execute_result"
    }
   ],
   "source": [
    "with open('029 rosalind_sign.txt', 'r') as f:\n",
    "     data = f.read()\n",
    "f.closed\n",
    "data"
   ]
  },
  {
   "cell_type": "code",
   "execution_count": null,
   "metadata": {},
   "outputs": [],
   "source": []
  },
  {
   "cell_type": "code",
   "execution_count": 88,
   "metadata": {},
   "outputs": [],
   "source": [
    "n = 3"
   ]
  },
  {
   "cell_type": "code",
   "execution_count": 89,
   "metadata": {},
   "outputs": [],
   "source": [
    "results = []\n",
    "for x in itertools.permutations(range(1, n+1)):\n",
    "    for i in range(0, len(x)+1):\n",
    "        for j in itertools.combinations(x, i):\n",
    "            neg = list(j)\n",
    "            a = [0]*len(x)\n",
    "            for i in range(1, len(x)+1):\n",
    "                if i in neg:\n",
    "                    a[i-1] = -x[i-1]\n",
    "                else:\n",
    "                    a[i-1] = x[i-1]\n",
    "            results.append(a)"
   ]
  },
  {
   "cell_type": "code",
   "execution_count": 90,
   "metadata": {},
   "outputs": [
    {
     "name": "stdout",
     "output_type": "stream",
     "text": [
      "48\n",
      "1 2 3\n",
      "-1 2 3\n",
      "1 -2 3\n",
      "1 2 -3\n",
      "-1 -2 3\n",
      "-1 2 -3\n",
      "1 -2 -3\n",
      "-1 -2 -3\n",
      "1 3 2\n",
      "-1 3 2\n",
      "1 3 -2\n",
      "1 -3 2\n",
      "-1 3 -2\n",
      "-1 -3 2\n",
      "1 -3 -2\n",
      "-1 -3 -2\n",
      "2 1 3\n",
      "2 -1 3\n",
      "-2 1 3\n",
      "2 1 -3\n",
      "-2 -1 3\n",
      "2 -1 -3\n",
      "-2 1 -3\n",
      "-2 -1 -3\n",
      "2 3 1\n",
      "2 -3 1\n",
      "2 3 -1\n",
      "-2 3 1\n",
      "2 -3 -1\n",
      "-2 -3 1\n",
      "-2 3 -1\n",
      "-2 -3 -1\n",
      "3 1 2\n",
      "3 1 -2\n",
      "-3 1 2\n",
      "3 -1 2\n",
      "-3 1 -2\n",
      "3 -1 -2\n",
      "-3 -1 2\n",
      "-3 -1 -2\n",
      "3 2 1\n",
      "3 2 -1\n",
      "3 -2 1\n",
      "-3 2 1\n",
      "3 -2 -1\n",
      "-3 2 -1\n",
      "-3 -2 1\n",
      "-3 -2 -1\n"
     ]
    }
   ],
   "source": [
    "print(len(results))\n",
    "for i in results:\n",
    "    print(*i, sep=' ')"
   ]
  },
  {
   "cell_type": "code",
   "execution_count": null,
   "metadata": {},
   "outputs": [],
   "source": []
  }
 ],
 "metadata": {
  "kernelspec": {
   "display_name": "Python 3",
   "language": "python",
   "name": "python3"
  },
  "language_info": {
   "codemirror_mode": {
    "name": "ipython",
    "version": 3
   },
   "file_extension": ".py",
   "mimetype": "text/x-python",
   "name": "python",
   "nbconvert_exporter": "python",
   "pygments_lexer": "ipython3",
   "version": "3.8.3"
  }
 },
 "nbformat": 4,
 "nbformat_minor": 4
}
