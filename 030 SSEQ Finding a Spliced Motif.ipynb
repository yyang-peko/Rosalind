{
 "cells": [
  {
   "cell_type": "code",
   "execution_count": 26,
   "metadata": {},
   "outputs": [
    {
     "data": {
      "text/plain": [
       "True"
      ]
     },
     "execution_count": 26,
     "metadata": {},
     "output_type": "execute_result"
    },
    {
     "data": {
      "text/plain": [
       "'>Rosalind_5467\\nGTTGGGCGGTTGTGGGACACCATAATAGCCTCACAATACGATGACCCAGTACCCAGCGAG\\nAAAATCATTCATGTGTTTTATCACCGGAACGGCCGCCTCTGCTTCGATATGCTGTGCCGT\\nTGACGACCATTCACGATCACGCTTGCATTGCATACAAAGGAGCCTCCATAGCAGAGTGCC\\nCCGAATTAGCATGCCTTCAAGTTTACCAAGCTAGTGCAGAATGTCACCTGAAGCTCACGC\\nATACTGCGGTCGCTTTAGGTCTATCATCGCCCGTGTTACGATGCTTCTACACACACCACC\\nAGTCGCAAGCCGTAAGGTGGTATCTCTAGAGTAGGTTGAGAGGCTGCGTGTTTTACTCAG\\nTACCTCGACGCTTAGCCGGGTAATACTGGACTGGCTATCCTTCACAGATGATCGATCTCT\\nCTGACCGCGTTACACTAATATTGAGAGGATGCGACTCATCGCCCCGGTTCACGCATGTCC\\nACCGCGTGCCAATCCACTATGTCTGCGTAGGGGTGTTTATTCTCTAATTGTTCTCAGTGA\\nCTGGCTTCGCCGACGGGGCATTTTGCAAAGGCGTGTGGAGGCACCCCATTAGGTAGCATC\\nTAATTAACTCGTCGCCCTTTGTTGCACTAAAATTGGACGACCTTATCAGACAGTGTATTA\\nTCGTTGCTTGCTGTGCATCTTTCGGAACTGCGTACACCAGGCACCTGCAAAGCGGTAGTA\\nTTGGGCGCCTCGGTCTCAGGGATTTTTTGTTCGAGGAGCCAACGGTCACAGTGGCCGCGG\\nGTTACGCAAGGTGTGGCAAATCTTTAAGTTAGTTGTCGC\\n>Rosalind_9850\\nTGCATGTTTACCCACTTAATAGGTACGGCTCCGAAGTGAGACCGGTCCAACTCACGGGTC\\nGGGGAATGATTGTTTAGCCCTGGCCTCGGGC\\n'"
      ]
     },
     "execution_count": 26,
     "metadata": {},
     "output_type": "execute_result"
    }
   ],
   "source": [
    "with open('030 rosalind_sseq.txt', 'r') as f:\n",
    "     data = f.read()\n",
    "f.closed\n",
    "data"
   ]
  },
  {
   "cell_type": "code",
   "execution_count": 46,
   "metadata": {},
   "outputs": [],
   "source": [
    "s = data.split('>')[1][13:].replace('\\n', '')\n",
    "t = data.split('>')[2][13:].replace('\\n', '')"
   ]
  },
  {
   "cell_type": "code",
   "execution_count": 24,
   "metadata": {},
   "outputs": [],
   "source": [
    "s = 'ACGTACGTGACG'\n",
    "t = 'GTA'"
   ]
  },
  {
   "cell_type": "code",
   "execution_count": 48,
   "metadata": {},
   "outputs": [
    {
     "name": "stdout",
     "output_type": "stream",
     "text": [
      "2 4 7 17 23 28 31 37 42 44 45 46 47 48 52 65 68 71 80 81 83 86 87 98 107 112 114 116 117 120 124 127 135 136 139 141 143 145 147 150 152 155 163 171 174 177 179 180 184 185 190 192 194 199 206 210 214 216 222 225 230 233 239 246 257 263 264 269 278 282 285 302 303 313 318 322 329 344 347 356 357 360 367 369 371 372 376 378 379 380 386\n"
     ]
    }
   ],
   "source": [
    "indices = [0]\n",
    "for i in t:\n",
    "    x = s[indices[-1]:].find(i) +1\n",
    "    indices.append(x + indices[-1])\n",
    "print(*indices[1:], sep= ' ')"
   ]
  },
  {
   "cell_type": "code",
   "execution_count": null,
   "metadata": {},
   "outputs": [],
   "source": []
  }
 ],
 "metadata": {
  "kernelspec": {
   "display_name": "Python 3",
   "language": "python",
   "name": "python3"
  },
  "language_info": {
   "codemirror_mode": {
    "name": "ipython",
    "version": 3
   },
   "file_extension": ".py",
   "mimetype": "text/x-python",
   "name": "python",
   "nbconvert_exporter": "python",
   "pygments_lexer": "ipython3",
   "version": "3.8.3"
  }
 },
 "nbformat": 4,
 "nbformat_minor": 4
}
