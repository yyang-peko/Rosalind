{
 "cells": [
  {
   "cell_type": "code",
   "execution_count": 28,
   "metadata": {},
   "outputs": [],
   "source": [
    "import math"
   ]
  },
  {
   "cell_type": "code",
   "execution_count": 37,
   "metadata": {},
   "outputs": [
    {
     "data": {
      "text/plain": [
       "True"
      ]
     },
     "execution_count": 37,
     "metadata": {},
     "output_type": "execute_result"
    },
    {
     "data": {
      "text/plain": [
       "'TGTTATGTGTCATCGACTGCGAGCTAAGGAGTGTAACAAATCCGTGGAGACTCTTTCCCGCCTCTGTACTCAAATCACTATCAG\\n0.102 0.162 0.188 0.252 0.305 0.385 0.433 0.484 0.584 0.615 0.698 0.716 0.783 0.861 0.910\\n'"
      ]
     },
     "execution_count": 37,
     "metadata": {},
     "output_type": "execute_result"
    }
   ],
   "source": [
    "with open('028 rosalind_prob.txt', 'r') as f:\n",
    "     data = f.read()\n",
    "f.closed\n",
    "data"
   ]
  },
  {
   "cell_type": "raw",
   "metadata": {},
   "source": [
    "s = 'ACGATACAA'\n",
    "A = list(map(float, (('0.129 0.287 0.423 0.476 0.641 0.742 0.783').split())))"
   ]
  },
  {
   "cell_type": "code",
   "execution_count": 40,
   "metadata": {},
   "outputs": [],
   "source": [
    "s = data.splitlines()[0]\n",
    "\n",
    "A = list(map(float, ((data.splitlines()[1]).split())))"
   ]
  },
  {
   "cell_type": "code",
   "execution_count": 41,
   "metadata": {},
   "outputs": [],
   "source": [
    "def str_prob(gc, s):\n",
    "    string_length  = len(s)\n",
    "    probs = 0\n",
    "    for i in s:\n",
    "        if i == 'A' or i=='T':\n",
    "            probs += math.log10((1-gc)/2)\n",
    "        else:\n",
    "            probs += math.log10((gc)/2)\n",
    "    return round(probs, 3)"
   ]
  },
  {
   "cell_type": "code",
   "execution_count": 42,
   "metadata": {},
   "outputs": [],
   "source": [
    "results = []\n",
    "for i in A:\n",
    "    results.append(str_prob(i, s))"
   ]
  },
  {
   "cell_type": "code",
   "execution_count": 43,
   "metadata": {},
   "outputs": [
    {
     "name": "stdout",
     "output_type": "stream",
     "text": [
      "-66.054 -59.569 -57.664 -54.306 -52.51 -50.954 -50.552 -50.508 -51.537 -52.175 -54.776 -55.546 -59.289 -66.386 -73.943\n"
     ]
    }
   ],
   "source": [
    "print(*results, sep = ' ')"
   ]
  },
  {
   "cell_type": "code",
   "execution_count": null,
   "metadata": {},
   "outputs": [],
   "source": []
  }
 ],
 "metadata": {
  "kernelspec": {
   "display_name": "Python 3",
   "language": "python",
   "name": "python3"
  },
  "language_info": {
   "codemirror_mode": {
    "name": "ipython",
    "version": 3
   },
   "file_extension": ".py",
   "mimetype": "text/x-python",
   "name": "python",
   "nbconvert_exporter": "python",
   "pygments_lexer": "ipython3",
   "version": "3.8.3"
  }
 },
 "nbformat": 4,
 "nbformat_minor": 4
}
