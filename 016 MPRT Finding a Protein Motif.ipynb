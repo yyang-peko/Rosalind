{
 "cells": [
  {
   "cell_type": "code",
   "execution_count": 76,
   "metadata": {},
   "outputs": [
    {
     "data": {
      "text/plain": [
       "True"
      ]
     },
     "execution_count": 76,
     "metadata": {},
     "output_type": "execute_result"
    }
   ],
   "source": [
    "with open('016 rosalind_mprt.txt', 'r') as f:\n",
    "     data = f.read()\n",
    "f.closed"
   ]
  },
  {
   "cell_type": "code",
   "execution_count": 80,
   "metadata": {},
   "outputs": [],
   "source": [
    "a = data.splitlines()"
   ]
  },
  {
   "cell_type": "code",
   "execution_count": 81,
   "metadata": {},
   "outputs": [
    {
     "data": {
      "text/plain": [
       "['B3ET80',\n",
       " 'P01046_KNL1_BOVIN',\n",
       " 'Q7TMB8',\n",
       " 'A9QYR8',\n",
       " 'Q4JAS3',\n",
       " 'P01374_TNFB_HUMAN',\n",
       " 'P01880_DTC_HUMAN',\n",
       " 'P02725_GLP_PIG',\n",
       " 'P47002',\n",
       " 'Q32LI2',\n",
       " 'B0RU89',\n",
       " 'P13671_CO6_HUMAN',\n",
       " 'Q55AB5',\n",
       " 'P80069_A45K_MYCBO']"
      ]
     },
     "execution_count": 81,
     "metadata": {},
     "output_type": "execute_result"
    }
   ],
   "source": [
    "a"
   ]
  },
  {
   "cell_type": "code",
   "execution_count": 41,
   "metadata": {},
   "outputs": [],
   "source": [
    "import urllib.request\n",
    "import re"
   ]
  },
  {
   "cell_type": "raw",
   "metadata": {},
   "source": [
    "a = ['A2Z669', 'B5ZC00', 'P07204_TRBM_HUMAN', 'P20840_SAG1_YEAST']"
   ]
  },
  {
   "cell_type": "code",
   "execution_count": 82,
   "metadata": {},
   "outputs": [],
   "source": [
    "proteins = []\n",
    "for i in a:\n",
    "    with urllib.request.urlopen('http://www.uniprot.org/uniprot/'+ i +'.fasta') as x:\n",
    "        fasta = x.read()\n",
    "        prot = str(fasta).split('SV=')[1][1:-1].replace('\\\\n', '')\n",
    "        proteins.append(prot)"
   ]
  },
  {
   "cell_type": "code",
   "execution_count": 63,
   "metadata": {},
   "outputs": [],
   "source": [
    "glyco = re.compile(r\"(?=(N[^P][ST][^P]))\")"
   ]
  },
  {
   "cell_type": "code",
   "execution_count": 83,
   "metadata": {},
   "outputs": [
    {
     "name": "stdout",
     "output_type": "stream",
     "text": [
      "B3ET80\n",
      "6\n",
      "P01046_KNL1_BOVIN\n",
      "47 87 168 169 197 204\n",
      "Q7TMB8\n",
      "209 291 328 442 607 672 831 858\n",
      "A9QYR8\n",
      "183 210\n",
      "P01374_TNFB_HUMAN\n",
      "96\n",
      "P01880_DTC_HUMAN\n",
      "225 316 367\n",
      "P02725_GLP_PIG\n",
      "16 19 39\n",
      "P47002\n",
      "35 552 608\n",
      "Q32LI2\n",
      "157\n",
      "B0RU89\n",
      "142 148 889 1028\n",
      "P13671_CO6_HUMAN\n",
      "324 855\n",
      "Q55AB5\n",
      "6\n",
      "P80069_A45K_MYCBO\n",
      "7 161\n"
     ]
    }
   ],
   "source": [
    "for protein in proteins:\n",
    "    m = re.findall(glyco, protein)\n",
    "    loci = []\n",
    "    for i in m:\n",
    "        loci.append(protein.find(i)+1)\n",
    "    if loci != []:\n",
    "        print(a[proteins.index(protein)])\n",
    "        print(*loci, sep=' ')"
   ]
  },
  {
   "cell_type": "code",
   "execution_count": null,
   "metadata": {},
   "outputs": [],
   "source": []
  }
 ],
 "metadata": {
  "kernelspec": {
   "display_name": "Python 3",
   "language": "python",
   "name": "python3"
  },
  "language_info": {
   "codemirror_mode": {
    "name": "ipython",
    "version": 3
   },
   "file_extension": ".py",
   "mimetype": "text/x-python",
   "name": "python",
   "nbconvert_exporter": "python",
   "pygments_lexer": "ipython3",
   "version": "3.8.3"
  }
 },
 "nbformat": 4,
 "nbformat_minor": 4
}
