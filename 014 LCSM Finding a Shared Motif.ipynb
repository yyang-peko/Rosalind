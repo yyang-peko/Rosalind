{
 "cells": [
  {
   "cell_type": "code",
   "execution_count": 72,
   "metadata": {},
   "outputs": [
    {
     "data": {
      "text/plain": [
       "True"
      ]
     },
     "execution_count": 72,
     "metadata": {},
     "output_type": "execute_result"
    }
   ],
   "source": [
    "with open('014 rosalind_LCSM.txt', 'r') as f:\n",
    "     data = f.read()\n",
    "f.closed"
   ]
  },
  {
   "cell_type": "code",
   "execution_count": 73,
   "metadata": {},
   "outputs": [],
   "source": [
    "ids = []\n",
    "seqs = []\n",
    "for i in data.split('>')[1:]:\n",
    "    ids.append(i[:13])\n",
    "    seqs.append(i[13:].replace('\\n', ''))"
   ]
  },
  {
   "cell_type": "code",
   "execution_count": 74,
   "metadata": {},
   "outputs": [],
   "source": [
    "def sub_find(seq):\n",
    "    ref = seq[0]\n",
    "    shortest = ''\n",
    "    for i in range(len(ref)):\n",
    "        for j in range(i+1, len(ref)+1):\n",
    "            stem = ref[i:j]\n",
    "            k = 1\n",
    "            for k in range(1, len(seq)):\n",
    "                if stem not in seq[k]:\n",
    "                    break\n",
    "                if (k+1 == len(seq) and len(shortest) < len(stem)):\n",
    "                    shortest = stem\n",
    "    return shortest"
   ]
  },
  {
   "cell_type": "code",
   "execution_count": 75,
   "metadata": {},
   "outputs": [
    {
     "data": {
      "text/plain": [
       "'TTAGCAATGAAGTCGAAATCAGCTATTCCGTTCTGTCCCGCTGGCGGCAG'"
      ]
     },
     "execution_count": 75,
     "metadata": {},
     "output_type": "execute_result"
    }
   ],
   "source": [
    "sub_find(seqs)"
   ]
  },
  {
   "cell_type": "code",
   "execution_count": null,
   "metadata": {},
   "outputs": [],
   "source": []
  }
 ],
 "metadata": {
  "kernelspec": {
   "display_name": "Python 3",
   "language": "python",
   "name": "python3"
  },
  "language_info": {
   "codemirror_mode": {
    "name": "ipython",
    "version": 3
   },
   "file_extension": ".py",
   "mimetype": "text/x-python",
   "name": "python",
   "nbconvert_exporter": "python",
   "pygments_lexer": "ipython3",
   "version": "3.8.3"
  }
 },
 "nbformat": 4,
 "nbformat_minor": 4
}
