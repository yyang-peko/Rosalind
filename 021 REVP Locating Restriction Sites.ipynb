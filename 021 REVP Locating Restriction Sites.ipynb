{
 "cells": [
  {
   "cell_type": "code",
   "execution_count": 1,
   "metadata": {},
   "outputs": [
    {
     "data": {
      "text/plain": [
       "True"
      ]
     },
     "execution_count": 1,
     "metadata": {},
     "output_type": "execute_result"
    }
   ],
   "source": [
    "with open('021 rosalind_revp.txt', 'r') as f:\n",
    "     data = f.read()\n",
    "f.closed"
   ]
  },
  {
   "cell_type": "code",
   "execution_count": 2,
   "metadata": {},
   "outputs": [
    {
     "data": {
      "text/plain": [
       "'>Rosalind_2425\\nCGCGGTCGTACTCTAGCTTACCAATGAAAATTGCAAGTATTACCTCGCGCTCGACCGGTT\\nCACTCGCGATCGGGGGGGGATGCCGAAGGAGCCAGATGTGGCGTGTGCCCACTGGACCTT\\nGACTGAATCTCTATAGCTGATTAGAGTGAATATGTAATTATCCATGAAGTATGACGCCTG\\nCTCTCTCTTTGAGATGTCTCAGAAGACACCGGCCCGGACGTAAGCAGCCGTGTCCTAGAA\\nTCTATGCCCAAGGATTATTGTCCCGTTCTGCACTTTTACACCCCTACGATAATTAAAAGC\\nATAGCGGGATTTCCGCGGTACCTTATATCGGCACCCACTACTGATACATTTGGAGCGAAA\\nACTTGGAGGATACAATATAAATAATGGGTAAATAGGAAGGGTTGGCTAACGACTTGCCTA\\nGGGCATAACAAAGATCCAGCAGATACCACCGCAAGGTCCCAGGTGCTCAGAAAGTACCGC\\nCCCCTATAGGGGGGTGGGACGAGCGACGGAGACATAGTCGCGGCTTGCTGGCATGGGTCG\\nGTTCACCGTGGGAGAGGTCGAGTGGAGTGACCGCATTATACCTGAGTGGTCGACCGGAGC\\nCAGCTCAGTCTTGCTTCGTTCGGTTGTCCCTCGTGGACGGGTGACTAAGCAGAAACTTTT\\nACCATCATATAAGTTACCGGGTACCGATACATTTGGCGTTGTAGCTTATAGTGTGTAGTA\\nTGCCCACACCTATGCCTCCCTGTCCTCAATCAGCCAGCACCACATGGGCCCAGCGAAATC\\nTGAGTCACGGTCAGGGGCAGAAGTTTACATACCCAAGGTCGGATTAAGTTAGCTTATGTT\\nTCGGCCACACTCCGGTGACTAGCGGTGCTTCCATGGTATAGAGAGTGGACGTTGGGCCGC\\nAGGAGACAGACAATTGGGCTTCGGCTAAGGGGATCGCATCTGAGGACCACAAAGGAGCCA\\nTATTTGAGTATA\\n'"
      ]
     },
     "execution_count": 2,
     "metadata": {},
     "output_type": "execute_result"
    }
   ],
   "source": [
    "data"
   ]
  },
  {
   "cell_type": "code",
   "execution_count": 3,
   "metadata": {},
   "outputs": [],
   "source": [
    "a = data[14:].replace('\\n', '')"
   ]
  },
  {
   "cell_type": "code",
   "execution_count": 4,
   "metadata": {},
   "outputs": [
    {
     "data": {
      "text/plain": [
       "'CGCGGTCGTACTCTAGCTTACCAATGAAAATTGCAAGTATTACCTCGCGCTCGACCGGTTCACTCGCGATCGGGGGGGGATGCCGAAGGAGCCAGATGTGGCGTGTGCCCACTGGACCTTGACTGAATCTCTATAGCTGATTAGAGTGAATATGTAATTATCCATGAAGTATGACGCCTGCTCTCTCTTTGAGATGTCTCAGAAGACACCGGCCCGGACGTAAGCAGCCGTGTCCTAGAATCTATGCCCAAGGATTATTGTCCCGTTCTGCACTTTTACACCCCTACGATAATTAAAAGCATAGCGGGATTTCCGCGGTACCTTATATCGGCACCCACTACTGATACATTTGGAGCGAAAACTTGGAGGATACAATATAAATAATGGGTAAATAGGAAGGGTTGGCTAACGACTTGCCTAGGGCATAACAAAGATCCAGCAGATACCACCGCAAGGTCCCAGGTGCTCAGAAAGTACCGCCCCCTATAGGGGGGTGGGACGAGCGACGGAGACATAGTCGCGGCTTGCTGGCATGGGTCGGTTCACCGTGGGAGAGGTCGAGTGGAGTGACCGCATTATACCTGAGTGGTCGACCGGAGCCAGCTCAGTCTTGCTTCGTTCGGTTGTCCCTCGTGGACGGGTGACTAAGCAGAAACTTTTACCATCATATAAGTTACCGGGTACCGATACATTTGGCGTTGTAGCTTATAGTGTGTAGTATGCCCACACCTATGCCTCCCTGTCCTCAATCAGCCAGCACCACATGGGCCCAGCGAAATCTGAGTCACGGTCAGGGGCAGAAGTTTACATACCCAAGGTCGGATTAAGTTAGCTTATGTTTCGGCCACACTCCGGTGACTAGCGGTGCTTCCATGGTATAGAGAGTGGACGTTGGGCCGCAGGAGACAGACAATTGGGCTTCGGCTAAGGGGATCGCATCTGAGGACCACAAAGGAGCCATATTTGAGTATA'"
      ]
     },
     "execution_count": 4,
     "metadata": {},
     "output_type": "execute_result"
    }
   ],
   "source": [
    "a"
   ]
  },
  {
   "cell_type": "raw",
   "metadata": {},
   "source": [
    "a = 'TCAATGCATGCGGGTCTATATGCAT'"
   ]
  },
  {
   "cell_type": "code",
   "execution_count": 5,
   "metadata": {},
   "outputs": [],
   "source": [
    "result = []\n",
    "for i in range(len(a)):\n",
    "    for j in range(i+1, len(a)+1):\n",
    "        if len(a[i:j]) >=4 and len(a[i:j]) <=12:\n",
    "            seq = a[i:j].translate(str.maketrans('ACGT', 'TGCA'))\n",
    "            if a[i:j] == seq[::-1]:\n",
    "                result.append([i+1, j-i])"
   ]
  },
  {
   "cell_type": "code",
   "execution_count": 6,
   "metadata": {},
   "outputs": [
    {
     "name": "stdout",
     "output_type": "stream",
     "text": [
      "1 4\n",
      "8 4\n",
      "13 4\n",
      "15 4\n",
      "29 4\n",
      "31 6\n",
      "32 4\n",
      "46 4\n",
      "47 4\n",
      "51 4\n",
      "54 6\n",
      "55 4\n",
      "64 6\n",
      "65 4\n",
      "67 6\n",
      "68 4\n",
      "131 6\n",
      "132 4\n",
      "135 4\n",
      "150 4\n",
      "155 6\n",
      "156 4\n",
      "163 4\n",
      "209 4\n",
      "211 4\n",
      "214 4\n",
      "218 4\n",
      "235 4\n",
      "269 4\n",
      "290 6\n",
      "291 4\n",
      "293 4\n",
      "313 6\n",
      "314 4\n",
      "317 6\n",
      "318 4\n",
      "324 4\n",
      "325 4\n",
      "375 4\n",
      "376 4\n",
      "417 6\n",
      "418 4\n",
      "433 4\n",
      "474 4\n",
      "481 12\n",
      "482 10\n",
      "483 8\n",
      "484 6\n",
      "485 4\n",
      "519 4\n",
      "532 4\n",
      "558 4\n",
      "577 4\n",
      "588 8\n",
      "589 6\n",
      "590 4\n",
      "594 4\n",
      "602 4\n",
      "667 4\n",
      "668 4\n",
      "677 4\n",
      "680 6\n",
      "681 4\n",
      "703 4\n",
      "707 4\n",
      "763 4\n",
      "765 8\n",
      "766 6\n",
      "767 4\n",
      "824 4\n",
      "831 4\n",
      "843 4\n",
      "852 4\n",
      "859 4\n",
      "871 6\n",
      "872 4\n",
      "877 4\n",
      "889 4\n",
      "895 4\n",
      "911 6\n",
      "912 4\n",
      "932 4\n",
      "960 4\n",
      "969 4\n"
     ]
    }
   ],
   "source": [
    "for i in result:\n",
    "    print(*i, sep=' ')"
   ]
  },
  {
   "cell_type": "code",
   "execution_count": null,
   "metadata": {},
   "outputs": [],
   "source": []
  }
 ],
 "metadata": {
  "kernelspec": {
   "display_name": "Python 3",
   "language": "python",
   "name": "python3"
  },
  "language_info": {
   "codemirror_mode": {
    "name": "ipython",
    "version": 3
   },
   "file_extension": ".py",
   "mimetype": "text/x-python",
   "name": "python",
   "nbconvert_exporter": "python",
   "pygments_lexer": "ipython3",
   "version": "3.8.3"
  }
 },
 "nbformat": 4,
 "nbformat_minor": 4
}
